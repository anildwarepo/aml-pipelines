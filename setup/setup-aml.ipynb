{
 "metadata": {
  "language_info": {
   "codemirror_mode": {
    "name": "ipython",
    "version": 3
   },
   "file_extension": ".py",
   "mimetype": "text/x-python",
   "name": "python",
   "nbconvert_exporter": "python",
   "pygments_lexer": "ipython3",
   "version": "3.7.10-final"
  },
  "orig_nbformat": 2,
  "kernelspec": {
   "name": "python3",
   "display_name": "Python 3.7.10 64-bit ('aml': conda)",
   "metadata": {
    "interpreter": {
     "hash": "a5d4df4a22655ddcd3995113ae21abdf5e3f153b58eb8770b042525e3ea05670"
    }
   }
  }
 },
 "nbformat": 4,
 "nbformat_minor": 2,
 "cells": [
  {
   "cell_type": "code",
   "execution_count": 17,
   "metadata": {},
   "outputs": [],
   "source": [
    "import os\n",
    "from azureml.core import Workspace\n",
    "from azureml.core.authentication import InteractiveLoginAuthentication\n",
    "\n",
    "def aml_login():\n",
    "    print(f\"Tenant ID: {os.environ['TENANT_ID']}\")\n",
    "    print(f\"Subscription ID: {os.environ['SUBSCRIPTION_ID']}\")\n",
    "    print(f\"Resource Group:  {os.environ['RESOURCE_GROUP']}\")\n",
    "    print(f\"Workspace Name: {os.environ['WORKSPACE_NAME']}\")\n",
    "    interactive_auth = InteractiveLoginAuthentication(tenant_id=os.environ['TENANT_ID'])\n",
    "\n",
    "    try:\n",
    "        ws = Workspace(subscription_id = os.environ['SUBSCRIPTION_ID'], resource_group = os.environ['RESOURCE_GROUP'], workspace_name = os.environ['WORKSPACE_NAME'], auth = interactive_auth)\n",
    "        ws.write_config()\n",
    "        print('Library configuration succeeded')\n",
    "    except Exception as e:\n",
    "        print(e + 'Workspace not found')"
   ]
  }
 ]
}