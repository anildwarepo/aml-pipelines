{
 "metadata": {
  "language_info": {
   "codemirror_mode": {
    "name": "ipython",
    "version": 3
   },
   "file_extension": ".py",
   "mimetype": "text/x-python",
   "name": "python",
   "nbconvert_exporter": "python",
   "pygments_lexer": "ipython3",
   "version": "3.7.10-final"
  },
  "orig_nbformat": 2,
  "kernelspec": {
   "name": "python3",
   "display_name": "Python 3.7.10 64-bit ('aml': conda)",
   "metadata": {
    "interpreter": {
     "hash": "a5d4df4a22655ddcd3995113ae21abdf5e3f153b58eb8770b042525e3ea05670"
    }
   }
  }
 },
 "nbformat": 4,
 "nbformat_minor": 2,
 "cells": [
  {
   "cell_type": "code",
   "execution_count": 7,
   "metadata": {},
   "outputs": [
    {
     "output_type": "execute_result",
     "data": {
      "text/plain": [
       "<azureml.data.azure_data_lake_datastore.AzureDataLakeGen2Datastore at 0x17174957bc8>"
      ]
     },
     "metadata": {},
     "execution_count": 7
    }
   ],
   "source": [
    "from azureml.core import Dataset, Datastore\n",
    "from azureml.pipeline.steps import PythonScriptStep\n",
    "from azureml.pipeline.core import Pipeline, PipelineData\n",
    "from azureml.core import Workspace\n",
    "\n",
    "ws = Workspace.from_config()\n",
    "\n",
    "# retrieve datastore\n",
    "datastore = Datastore(ws, \"anildwaadlsv2\")\n",
    "datastore"
   ]
  },
  {
   "cell_type": "code",
   "execution_count": 9,
   "metadata": {},
   "outputs": [],
   "source": [
    "# create a TabularDataset from 3 file paths in datastore\n",
    "datastore_paths = [(datastore, 'WA_Fn-UseC_-Telco-Customer-Churn.csv')]\n",
    "\n",
    "# create tabular data set\n",
    "telco_customer_ds = Dataset.Tabular.from_delimited_files(path=datastore_paths)\n"
   ]
  },
  {
   "cell_type": "code",
   "execution_count": 13,
   "metadata": {},
   "outputs": [],
   "source": [
    "\n",
    "# register pipeline output as dataset\n",
    "telco_customer_ds = telco_customer_ds.register(workspace=ws, name='prepared_TelcoCustomerChurn',description = 'telco data in week 27', create_new_version=True)"
   ]
  }
 ]
}